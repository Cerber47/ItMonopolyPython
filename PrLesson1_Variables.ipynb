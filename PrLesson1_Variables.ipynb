{
 "cells": [
  {
   "cell_type": "markdown",
   "metadata": {
    "slideshow": {
     "slide_type": "slide"
    }
   },
   "source": [
    "#  Основы Python\n",
    "## Занятие 1 - Переменные"
   ]
  },
  {
   "cell_type": "markdown",
   "metadata": {
    "slideshow": {
     "slide_type": "notes"
    }
   },
   "source": [
    "Made by Ванурин Алексей\n",
    "email - vanurin@phystech.edu"
   ]
  },
  {
   "cell_type": "markdown",
   "metadata": {
    "slideshow": {
     "slide_type": "slide"
    }
   },
   "source": [
    "## Определение\n"
   ]
  },
  {
   "cell_type": "markdown",
   "metadata": {
    "slideshow": {
     "slide_type": "-"
    }
   },
   "source": [
    "__Переменная__ (англ. - variable) - это именнованная (или адресуемая) область памяти, для осуществления доступа к данным. \n",
    "Данные, хранящиеся в этой области памяти именуются значением переменной"
   ]
  },
  {
   "cell_type": "code",
   "execution_count": 26,
   "metadata": {
    "slideshow": {
     "slide_type": "-"
    }
   },
   "outputs": [],
   "source": [
    "var = 4"
   ]
  },
  {
   "cell_type": "markdown",
   "metadata": {
    "slideshow": {
     "slide_type": "-"
    }
   },
   "source": [
    "Мы объявили переменную __var__ ('Declaration') и присвоили ей значение __4__. Оператор ```=``` - оператор присваивания"
   ]
  },
  {
   "cell_type": "markdown",
   "metadata": {
    "slideshow": {
     "slide_type": "slide"
    }
   },
   "source": [
    "## Типы данных"
   ]
  },
  {
   "cell_type": "markdown",
   "metadata": {
    "slideshow": {
     "slide_type": "-"
    }
   },
   "source": [
    "Переменные разделяются на типы. Типы накладывают ограничения на максимальные и минимальные значения переменных, а также на набор допустимых операций с ними"
   ]
  },
  {
   "cell_type": "code",
   "execution_count": 27,
   "metadata": {
    "slideshow": {
     "slide_type": "-"
    }
   },
   "outputs": [],
   "source": [
    "a = 4       # Integer\n",
    "b = 12.4    # Float\n",
    "c = True    # Boolean\n",
    "d = 'Python'# String"
   ]
  },
  {
   "cell_type": "markdown",
   "metadata": {
    "slideshow": {
     "slide_type": "slide"
    }
   },
   "source": [
    "## Основные типы данных"
   ]
  },
  {
   "cell_type": "markdown",
   "metadata": {},
   "source": [
    "<small>\n",
    "- __None__ (неопределенное значение переменной)\n",
    "- __Логические переменные__ (Boolean Type)\n",
    "- __Числа__ (Numeric Type)\n",
    "  - ```int``` – целое число\n",
    "  - ```float``` – число с плавающей точкой\n",
    "  - ```complex``` – комплексное число\n",
    "- __Списки__ (Sequence Type)\n",
    "  - ```list``` – список\n",
    "  - ```tuple``` – кортеж\n",
    "  - ```range``` – диапазон\n",
    "- __Строки__ (Text Sequence Type )\n",
    "  - ```str```\n",
    "<small>"
   ]
  },
  {
   "cell_type": "markdown",
   "metadata": {
    "slideshow": {
     "slide_type": "notes"
    }
   },
   "source": [
    "Кортеж - константный или неизменяемый список"
   ]
  },
  {
   "cell_type": "markdown",
   "metadata": {
    "slideshow": {
     "slide_type": "slide"
    }
   },
   "source": [
    "## Основные типы данных"
   ]
  },
  {
   "cell_type": "markdown",
   "metadata": {},
   "source": [
    "<small>\n",
    "- __Бинарные списки__ (Binary Sequence Types)\n",
    "  - ```bytes``` – байты\n",
    "  - ```bytearray``` – массивы байт\n",
    "  - ```cmemoryview``` – специальные объекты для доступа к внутренним данным объекта через protocol buffer\n",
    "- __Множества__ (Set Types)\n",
    "  - ```set``` – множество\n",
    "  - ```frozenset``` – неизменяемое множество\n",
    "- __Словари__ (Mapping Types)\n",
    "  - ```dict``` – словарь\n",
    "</small>"
   ]
  },
  {
   "cell_type": "markdown",
   "metadata": {
    "slideshow": {
     "slide_type": "slide"
    }
   },
   "source": [
    "## Константы"
   ]
  },
  {
   "cell_type": "markdown",
   "metadata": {},
   "source": [
    "Константы - переменные, которые невозможно изменить в процессе работы программы. "
   ]
  },
  {
   "cell_type": "markdown",
   "metadata": {},
   "source": [
    "Констант, в привычном понимании, в языке python не существует"
   ]
  },
  {
   "cell_type": "markdown",
   "metadata": {
    "slideshow": {
     "slide_type": "slide"
    }
   },
   "source": [
    "## Работа с переменными"
   ]
  },
  {
   "cell_type": "markdown",
   "metadata": {},
   "source": [
    "Язык __python__ позволяет свободно работать с переменными разных типов и задвать их тип по ходу работы программы"
   ]
  },
  {
   "cell_type": "code",
   "execution_count": 12,
   "metadata": {},
   "outputs": [
    {
     "name": "stdout",
     "output_type": "stream",
     "text": [
      "7.140000000000001\n"
     ]
    }
   ],
   "source": [
    "a = 4\n",
    "b = 3.14\n",
    "c = a + b\n",
    "print(c)"
   ]
  },
  {
   "cell_type": "markdown",
   "metadata": {
    "slideshow": {
     "slide_type": "slide"
    }
   },
   "source": [
    "## Арифметика"
   ]
  },
  {
   "cell_type": "markdown",
   "metadata": {},
   "source": [
    "Переменные можно складывать, перемножать, делить друг на друга, находить разницу"
   ]
  },
  {
   "cell_type": "code",
   "execution_count": 13,
   "metadata": {
    "scrolled": true
   },
   "outputs": [
    {
     "name": "stdout",
     "output_type": "stream",
     "text": [
      "5\n",
      "4\n",
      "3\n",
      "0.25\n"
     ]
    }
   ],
   "source": [
    "a = 1\n",
    "b = 4\n",
    "print(a+b) #5\n",
    "print(a*b) #4\n",
    "print(b-a) #3\n",
    "print(a/b) #0.25"
   ]
  },
  {
   "cell_type": "markdown",
   "metadata": {
    "slideshow": {
     "slide_type": "slide"
    }
   },
   "source": [
    "## Арифметика"
   ]
  },
  {
   "cell_type": "markdown",
   "metadata": {
    "slideshow": {
     "slide_type": "-"
    }
   },
   "source": [
    "Также сущетсвуют операции целочисленного деления, нахождение остатка от деления и возведение в степень"
   ]
  },
  {
   "cell_type": "code",
   "execution_count": 14,
   "metadata": {},
   "outputs": [
    {
     "name": "stdout",
     "output_type": "stream",
     "text": [
      "16\n",
      "0\n",
      "2\n"
     ]
    }
   ],
   "source": [
    "a = 2\n",
    "b = 4\n",
    "print(a ** b)\n",
    "print(a // b)\n",
    "print(a % b)"
   ]
  },
  {
   "cell_type": "markdown",
   "metadata": {
    "slideshow": {
     "slide_type": "slide"
    }
   },
   "source": [
    "# Строковые переменные\n",
    "### Объявление строк"
   ]
  },
  {
   "cell_type": "markdown",
   "metadata": {},
   "source": [
    "__Строки__ - отдельный важный тип данных в Python"
   ]
  },
  {
   "cell_type": "code",
   "execution_count": 15,
   "metadata": {},
   "outputs": [
    {
     "name": "stdout",
     "output_type": "stream",
     "text": [
      "Im Not Robot\n"
     ]
    }
   ],
   "source": [
    "s1 = 'Im '\n",
    "s2 = \"Not \"\n",
    "s3 = \"\"\"Robot\"\"\"\n",
    "print(s1 + s2 + s3)"
   ]
  },
  {
   "cell_type": "markdown",
   "metadata": {
    "slideshow": {
     "slide_type": "slide"
    }
   },
   "source": [
    "## Срезы"
   ]
  },
  {
   "cell_type": "markdown",
   "metadata": {},
   "source": [
    "У строк существует взятие по индексу. Результатом взятия по индексу будет строка из одного символа"
   ]
  },
  {
   "cell_type": "code",
   "execution_count": 16,
   "metadata": {},
   "outputs": [
    {
     "name": "stdout",
     "output_type": "stream",
     "text": [
      "Y\n",
      "e\n",
      "p\n"
     ]
    }
   ],
   "source": [
    "string = 'You please send help'\n",
    "print(string[0])\n",
    "print(string[6])\n",
    "print(string[-1])"
   ]
  },
  {
   "cell_type": "markdown",
   "metadata": {
    "slideshow": {
     "slide_type": "slide"
    }
   },
   "source": [
    "## Срезы"
   ]
  },
  {
   "cell_type": "markdown",
   "metadata": {},
   "source": [
    "В Python кроме взятия по индексу существуют __срезы__"
   ]
  },
  {
   "cell_type": "code",
   "execution_count": 17,
   "metadata": {},
   "outputs": [
    {
     "name": "stdout",
     "output_type": "stream",
     "text": [
      "34\n"
     ]
    }
   ],
   "source": [
    "string = '1234567890'\n",
    "a = string[2:4]\n",
    "print(a)"
   ]
  },
  {
   "cell_type": "markdown",
   "metadata": {},
   "source": [
    "Дополнительно можно задать шаг последовательности по схеме [START:STOP:STEP]"
   ]
  },
  {
   "cell_type": "code",
   "execution_count": 18,
   "metadata": {},
   "outputs": [
    {
     "name": "stdout",
     "output_type": "stream",
     "text": [
      "2468\n"
     ]
    }
   ],
   "source": [
    "string = '1234567890'\n",
    "a = string[1:-1:2]\n",
    "print(a)"
   ]
  },
  {
   "cell_type": "markdown",
   "metadata": {
    "slideshow": {
     "slide_type": "slide"
    }
   },
   "source": [
    "## Некоторые возможности при работе со строками"
   ]
  },
  {
   "cell_type": "markdown",
   "metadata": {
    "slideshow": {
     "slide_type": "slide"
    }
   },
   "source": [
    "### Длина строки"
   ]
  },
  {
   "cell_type": "code",
   "execution_count": 20,
   "metadata": {},
   "outputs": [
    {
     "name": "stdout",
     "output_type": "stream",
     "text": [
      "10\n"
     ]
    }
   ],
   "source": [
    "s = '1234567890'\n",
    "l = len(s)\n",
    "print(l)"
   ]
  },
  {
   "cell_type": "markdown",
   "metadata": {},
   "source": [
    "```Len(string)``` - Вычисление длины строки, где ```string``` - наша строчка. В нашем примере string это s"
   ]
  },
  {
   "cell_type": "markdown",
   "metadata": {
    "slideshow": {
     "slide_type": "slide"
    }
   },
   "source": [
    "### Умножение и сложение строк"
   ]
  },
  {
   "cell_type": "code",
   "execution_count": 21,
   "metadata": {},
   "outputs": [
    {
     "name": "stdout",
     "output_type": "stream",
     "text": [
      "WordWordWordWordWord\n"
     ]
    }
   ],
   "source": [
    "s1 = 'Word'\n",
    "print(s1 * 5)"
   ]
  },
  {
   "cell_type": "code",
   "execution_count": 22,
   "metadata": {},
   "outputs": [
    {
     "name": "stdout",
     "output_type": "stream",
     "text": [
      "First Word Second Word\n"
     ]
    }
   ],
   "source": [
    "s1 = 'First Word '\n",
    "s2 = 'Second Word'\n",
    "print(s1 + s2)"
   ]
  },
  {
   "cell_type": "markdown",
   "metadata": {
    "slideshow": {
     "slide_type": "slide"
    }
   },
   "source": [
    "### Удаление элемента из строки"
   ]
  },
  {
   "cell_type": "code",
   "execution_count": 24,
   "metadata": {},
   "outputs": [
    {
     "name": "stdout",
     "output_type": "stream",
     "text": [
      "Vasya Oblomov +79096753241\n",
      "Vasya Oblomov \n"
     ]
    }
   ],
   "source": [
    "s = 'Vasya Oblomov +79096753241'\n",
    "print(s)\n",
    "s = s.replace('+79096753241','')\n",
    "print(s)"
   ]
  },
  {
   "cell_type": "markdown",
   "metadata": {},
   "source": [
    "Метод ```replace``` принимает 2 аргумента. Первый - шаблон для удаления, второй - на что заменить удаляемую подстроку в строку ```S```."
   ]
  },
  {
   "cell_type": "markdown",
   "metadata": {
    "slideshow": {
     "slide_type": "slide"
    }
   },
   "source": [
    "Полный список операторов, методов и функций можно найти в документациях. Например тут - https://pythonworld.ru/tipy-dannyx-v-python/stroki-funkcii-i-metody-strok.html"
   ]
  }
 ],
 "metadata": {
  "celltoolbar": "Slideshow",
  "kernelspec": {
   "display_name": "Python 3",
   "language": "python",
   "name": "python3"
  },
  "language_info": {
   "codemirror_mode": {
    "name": "ipython",
    "version": 3
   },
   "file_extension": ".py",
   "mimetype": "text/x-python",
   "name": "python",
   "nbconvert_exporter": "python",
   "pygments_lexer": "ipython3",
   "version": "3.6.5"
  }
 },
 "nbformat": 4,
 "nbformat_minor": 2
}
