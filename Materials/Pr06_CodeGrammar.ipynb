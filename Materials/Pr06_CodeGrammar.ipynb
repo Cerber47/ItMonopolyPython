{
 "cells": [
  {
   "cell_type": "markdown",
   "metadata": {
    "slideshow": {
     "slide_type": "slide"
    }
   },
   "source": [
    "# Введение в Python\n",
    "\n",
    "## \"Практика программирования\" на python"
   ]
  },
  {
   "cell_type": "markdown",
   "metadata": {
    "slideshow": {
     "slide_type": "slide"
    }
   },
   "source": [
    "# Введение"
   ]
  },
  {
   "cell_type": "markdown",
   "metadata": {},
   "source": [
    "\"Практика программирования\" - общие наборы идей и инструкций о том как надо правильно организовывать код в программу, а программы в проекты"
   ]
  },
  {
   "cell_type": "markdown",
   "metadata": {},
   "source": [
    "Частично в этом помогают синтаксические конструкции языка Python, частично - здравомыслие человека"
   ]
  },
  {
   "cell_type": "markdown",
   "metadata": {},
   "source": [
    "Грубо говоря это история о том, как не творить хаос и не утонуть в багах"
   ]
  },
  {
   "cell_type": "markdown",
   "metadata": {
    "slideshow": {
     "slide_type": "slide"
    }
   },
   "source": [
    "## Использование сторонних файлов"
   ]
  },
  {
   "cell_type": "markdown",
   "metadata": {},
   "source": [
    "Открыть файл можно через функцию ```open()```"
   ]
  },
  {
   "cell_type": "code",
   "execution_count": null,
   "metadata": {},
   "outputs": [],
   "source": [
    "file = (\"name.txt\", 'r')"
   ]
  },
  {
   "cell_type": "markdown",
   "metadata": {},
   "source": [
    "Закрыть поток можно с помощью функции ```close()``` "
   ]
  },
  {
   "cell_type": "code",
   "execution_count": null,
   "metadata": {},
   "outputs": [],
   "source": [
    "file.close()"
   ]
  },
  {
   "cell_type": "markdown",
   "metadata": {},
   "source": [
    "Все потоки нужно ОБЯЗАТЕЛЬНО закрывать"
   ]
  },
  {
   "cell_type": "markdown",
   "metadata": {
    "slideshow": {
     "slide_type": "slide"
    }
   },
   "source": [
    "## Чтение с потока"
   ]
  },
  {
   "cell_type": "markdown",
   "metadata": {},
   "source": [
    "Читать с потока можно с помощью следущих методов"
   ]
  },
  {
   "cell_type": "code",
   "execution_count": null,
   "metadata": {},
   "outputs": [],
   "source": [
    "line = f.readline()\n",
    "lines = f.readlines()\n",
    "full = f.read()"
   ]
  },
  {
   "cell_type": "markdown",
   "metadata": {
    "slideshow": {
     "slide_type": "slide"
    }
   },
   "source": [
    "## Режимы "
   ]
  },
  {
   "cell_type": "markdown",
   "metadata": {},
   "source": [
    "Второй аргумент функции ```open()``` - режим. Для чтения файла и записи режимы следует указывать как 'r' и 'wb'. Для побайтового чтения или записи следует использовать 'rb' и 'wb' соответсвенно "
   ]
  },
  {
   "cell_type": "code",
   "execution_count": null,
   "metadata": {},
   "outputs": [],
   "source": [
    "f = open('file.txt','rb')\n",
    "bytes = f.read(4)\n",
    "f.close()"
   ]
  },
  {
   "cell_type": "markdown",
   "metadata": {},
   "source": [
    "Мы открыли файл 'file.txt', указали что будем читать байты, прочли первые 4 байта и закрыли поток"
   ]
  },
  {
   "cell_type": "markdown",
   "metadata": {
    "slideshow": {
     "slide_type": "slide"
    }
   },
   "source": [
    "## Менеджеры контекста with-as"
   ]
  },
  {
   "cell_type": "markdown",
   "metadata": {},
   "source": [
    "Все то же самое можно провернуть более __правильным__ способом"
   ]
  },
  {
   "cell_type": "code",
   "execution_count": null,
   "metadata": {},
   "outputs": [],
   "source": [
    "with open('file.txt', 'rb') as f_toread:\n",
    "    bytes = f_toread.read(4)"
   ]
  },
  {
   "cell_type": "markdown",
   "metadata": {},
   "source": [
    "```with-as``` позволяет гарантировать закарытие файла в ЛЮБОМ случае"
   ]
  },
  {
   "cell_type": "markdown",
   "metadata": {
    "slideshow": {
     "slide_type": "slide"
    }
   },
   "source": [
    "## Обработка исключений"
   ]
  },
  {
   "cell_type": "markdown",
   "metadata": {},
   "source": [
    "За обработку исключений в Python отвечает конструкция ```try-except-else-finally```"
   ]
  },
  {
   "cell_type": "code",
   "execution_count": 5,
   "metadata": {},
   "outputs": [
    {
     "name": "stdout",
     "output_type": "stream",
     "text": [
      "s= 1.0\n",
      "Все хорошо\n",
      "Завершение программы\n"
     ]
    }
   ],
   "source": [
    "a = 1\n",
    "b = 1\n",
    "try:\n",
    "    s = b / a\n",
    "except ZeroDivisionError:\n",
    "    print('На ноль делить нельзя!')\n",
    "except Exception:\n",
    "    print('Неожиданная ошибка')\n",
    "else:\n",
    "    print('s=', s)\n",
    "    print('Все хорошо')\n",
    "finally:\n",
    "    print('Завершение программы')"
   ]
  },
  {
   "cell_type": "markdown",
   "metadata": {
    "slideshow": {
     "slide_type": "slide"
    }
   },
   "source": [
    "Попробуем поделить на нуль"
   ]
  },
  {
   "cell_type": "code",
   "execution_count": 6,
   "metadata": {
    "slideshow": {
     "slide_type": "-"
    }
   },
   "outputs": [
    {
     "name": "stdout",
     "output_type": "stream",
     "text": [
      "На ноль делить нельзя!\n",
      "Завершение программы\n"
     ]
    }
   ],
   "source": [
    "a = 0\n",
    "b = 1\n",
    "try:\n",
    "    s = b / a\n",
    "except ZeroDivisionError:\n",
    "    print('На ноль делить нельзя!')\n",
    "except Exception:\n",
    "    print('Неожиданная ошибка')\n",
    "else:\n",
    "    print('s=', s)\n",
    "    print('Все хорошо')\n",
    "finally:\n",
    "    print('Завершение программы')"
   ]
  },
  {
   "cell_type": "markdown",
   "metadata": {
    "slideshow": {
     "slide_type": "slide"
    }
   },
   "source": [
    "Положим в b пустой список"
   ]
  },
  {
   "cell_type": "code",
   "execution_count": 8,
   "metadata": {},
   "outputs": [
    {
     "name": "stdout",
     "output_type": "stream",
     "text": [
      "Неожиданная ошибка\n",
      "Завершение программы\n"
     ]
    }
   ],
   "source": [
    "a = 1\n",
    "b = []\n",
    "try:\n",
    "    s = b / a\n",
    "except ZeroDivisionError:\n",
    "    print('На ноль делить нельзя!')\n",
    "except Exception:\n",
    "    print('Неожиданная ошибка')\n",
    "else:\n",
    "    print('s=', s)\n",
    "    print('Все хорошо')\n",
    "finally:\n",
    "    print('Завершение программы')"
   ]
  },
  {
   "cell_type": "markdown",
   "metadata": {
    "slideshow": {
     "slide_type": "slide"
    }
   },
   "source": [
    "```try``` - Попытка выполнить блок кода, указанного в блоке"
   ]
  },
  {
   "cell_type": "markdown",
   "metadata": {},
   "source": [
    "```except``` - Выполнить блок кода, если в блоке try была поднята указанная ошибка"
   ]
  },
  {
   "cell_type": "markdown",
   "metadata": {},
   "source": [
    "```esle``` - Выполнить блок если блок try выполнился без исключений"
   ]
  },
  {
   "cell_type": "markdown",
   "metadata": {},
   "source": [
    "```finally``` - Блок когда, который выполнится ВСЕГДА вне зависимости от исключений"
   ]
  },
  {
   "cell_type": "markdown",
   "metadata": {
    "slideshow": {
     "slide_type": "slide"
    }
   },
   "source": [
    "## Некоторые ошибки в Python"
   ]
  },
  {
   "cell_type": "markdown",
   "metadata": {},
   "source": [
    "- ArithmeticError - Арифметическая ошибка\n",
    "- AttributeError - Объект не имеет данного атрибута (значения или метода)\n",
    "- ImportError - Не удалось импортирование модуля или его атрибута\n",
    "- OSError - Ошибка, связанная с системой\n",
    "- TypeError - Операция применена к объекту несоответствующего типа\n",
    "- ValueError - Функция получает аргумент правильного типа, но некорректного значения\n",
    "- InterruptedError - Системный вызов прерван входящим сигналом"
   ]
  },
  {
   "cell_type": "markdown",
   "metadata": {
    "slideshow": {
     "slide_type": "slide"
    }
   },
   "source": [
    "## Оператор raise"
   ]
  },
  {
   "cell_type": "markdown",
   "metadata": {},
   "source": [
    "Оператор raise позволяет программисту поднимать, нужные ему ошибки"
   ]
  },
  {
   "cell_type": "code",
   "execution_count": 14,
   "metadata": {},
   "outputs": [
    {
     "name": "stdout",
     "output_type": "stream",
     "text": [
      "11\n"
     ]
    },
    {
     "ename": "ValueError",
     "evalue": "",
     "output_type": "error",
     "traceback": [
      "\u001b[0;31m---------------------------------------------------------------------------\u001b[0m",
      "\u001b[0;31mValueError\u001b[0m                                Traceback (most recent call last)",
      "\u001b[0;32m<ipython-input-14-7fe169126736>\u001b[0m in \u001b[0;36m<module>\u001b[0;34m()\u001b[0m\n\u001b[1;32m      6\u001b[0m \u001b[0;34m\u001b[0m\u001b[0m\n\u001b[1;32m      7\u001b[0m \u001b[0mprint\u001b[0m\u001b[0;34m(\u001b[0m\u001b[0msum\u001b[0m\u001b[0;34m(\u001b[0m\u001b[0;36m10\u001b[0m\u001b[0;34m,\u001b[0m\u001b[0;36m1\u001b[0m\u001b[0;34m)\u001b[0m\u001b[0;34m)\u001b[0m\u001b[0;34m\u001b[0m\u001b[0m\n\u001b[0;32m----> 8\u001b[0;31m \u001b[0mprint\u001b[0m\u001b[0;34m(\u001b[0m\u001b[0msum\u001b[0m\u001b[0;34m(\u001b[0m\u001b[0;36m1\u001b[0m\u001b[0;34m,\u001b[0m\u001b[0;36m10\u001b[0m\u001b[0;34m)\u001b[0m\u001b[0;34m)\u001b[0m\u001b[0;34m\u001b[0m\u001b[0m\n\u001b[0m",
      "\u001b[0;32m<ipython-input-14-7fe169126736>\u001b[0m in \u001b[0;36msum\u001b[0;34m(a, b)\u001b[0m\n\u001b[1;32m      1\u001b[0m \u001b[0;32mdef\u001b[0m \u001b[0msum\u001b[0m\u001b[0;34m(\u001b[0m\u001b[0ma\u001b[0m\u001b[0;34m,\u001b[0m \u001b[0mb\u001b[0m\u001b[0;34m)\u001b[0m\u001b[0;34m:\u001b[0m\u001b[0;34m\u001b[0m\u001b[0m\n\u001b[1;32m      2\u001b[0m     \u001b[0;32mif\u001b[0m \u001b[0ma\u001b[0m \u001b[0;34m<\u001b[0m \u001b[0mb\u001b[0m\u001b[0;34m:\u001b[0m\u001b[0;34m\u001b[0m\u001b[0m\n\u001b[0;32m----> 3\u001b[0;31m         \u001b[0;32mraise\u001b[0m \u001b[0mValueError\u001b[0m\u001b[0;34m\u001b[0m\u001b[0m\n\u001b[0m\u001b[1;32m      4\u001b[0m     \u001b[0;32melse\u001b[0m\u001b[0;34m:\u001b[0m\u001b[0;34m\u001b[0m\u001b[0m\n\u001b[1;32m      5\u001b[0m         \u001b[0;32mreturn\u001b[0m \u001b[0ma\u001b[0m\u001b[0;34m+\u001b[0m\u001b[0mb\u001b[0m\u001b[0;34m\u001b[0m\u001b[0m\n",
      "\u001b[0;31mValueError\u001b[0m: "
     ]
    }
   ],
   "source": [
    "def sum(a, b):\n",
    "    if a < b:\n",
    "        raise ValueError\n",
    "    else:\n",
    "        return a+b\n",
    "    \n",
    "print(sum(10,1))\n",
    "print(sum(1,10))"
   ]
  },
  {
   "cell_type": "markdown",
   "metadata": {
    "slideshow": {
     "slide_type": "slide"
    }
   },
   "source": [
    "## Специальная переменная ______name__"
   ]
  },
  {
   "cell_type": "markdown",
   "metadata": {},
   "source": [
    "При выполнении программы, как программы, специальной переменной ```__name__``` присваивается значение ```'__main__'```. Это позволяет контролировать в каком порядке будут выполняться блоки кода в прграмме"
   ]
  },
  {
   "cell_type": "code",
   "execution_count": 15,
   "metadata": {},
   "outputs": [
    {
     "name": "stdout",
     "output_type": "stream",
     "text": [
      "Here we start\n",
      "Hello world!\n",
      "Here we end\n"
     ]
    }
   ],
   "source": [
    "def main():\n",
    "    print('Hello world!')\n",
    "    \n",
    "if __name__ == '__main__':\n",
    "    print('Here we start')\n",
    "    main()\n",
    "    print('Here we end')"
   ]
  },
  {
   "cell_type": "markdown",
   "metadata": {
    "slideshow": {
     "slide_type": "slide"
    }
   },
   "source": [
    "## Запуск программы с аргументами командной строки"
   ]
  },
  {
   "cell_type": "markdown",
   "metadata": {},
   "source": [
    "Используя модуль ```sys``` можно использовать аргументы с командной строки"
   ]
  },
  {
   "cell_type": "code",
   "execution_count": null,
   "metadata": {},
   "outputs": [],
   "source": [
    "import sys\n",
    "\n",
    "def sum(a, b):\n",
    "    return a + b\n",
    "\n",
    "if __name__ == \"__main__\":\n",
    "    sum(sys.arg[1], sys.arg[2])"
   ]
  },
  {
   "cell_type": "markdown",
   "metadata": {},
   "source": [
    "Запуск такой программы будет выглядить сл. образом"
   ]
  },
  {
   "cell_type": "code",
   "execution_count": null,
   "metadata": {},
   "outputs": [],
   "source": [
    "python3 programm.py 1 3"
   ]
  },
  {
   "cell_type": "markdown",
   "metadata": {
    "slideshow": {
     "slide_type": "slide"
    }
   },
   "source": [
    "## Создание модулей"
   ]
  },
  {
   "cell_type": "markdown",
   "metadata": {},
   "source": [
    "Модуль - подключаемая библиотека для выполнения прикладных задач"
   ]
  },
  {
   "cell_type": "markdown",
   "metadata": {},
   "source": [
    "Для собственных подзадач в проекте следует использовать модули"
   ]
  },
  {
   "cell_type": "markdown",
   "metadata": {},
   "source": [
    "Для создания модуля достаточно внутри проекта создать папку с названием модуля, и внутри этой папки создать файл с названием __init__.py. Достаточно чтобы этот файл был пустым. Готово. Модуль название которого совпадает с папкой в которой он лежит готов к использованию"
   ]
  },
  {
   "cell_type": "markdown",
   "metadata": {
    "slideshow": {
     "slide_type": "slide"
    }
   },
   "source": [
    "## Подводя итоги"
   ]
  },
  {
   "cell_type": "markdown",
   "metadata": {},
   "source": [
    "Грамотный кодер:\n",
    "- Использует try-exception и ловит ошибки\n",
    "- Отделяет свою программу, от ее запуска с помощью \"______main__\"\n",
    "- Создает модули для своих подчадач в задаче\n",
    "- Не забывает закрывать потоки и прочие вещи, которые стоит обязательно делать"
   ]
  },
  {
   "cell_type": "markdown",
   "metadata": {},
   "source": [
    "Перейдем к необязательным обязательным моментам написание кода "
   ]
  },
  {
   "cell_type": "markdown",
   "metadata": {},
   "source": [
    "## PEP8"
   ]
  },
  {
   "cell_type": "markdown",
   "metadata": {},
   "source": [
    "PEP8 - общеприянтый документ о том как СЛЕДУЕТ писать код на Python"
   ]
  },
  {
   "cell_type": "markdown",
   "metadata": {},
   "source": [
    "Ключевая идея - код чаще пишется, чем читается. Поэтому стилистика играет очень важную роль"
   ]
  },
  {
   "cell_type": "markdown",
   "metadata": {},
   "source": [
    "Нарушать PEP8 разрешено только в двух случаях. Когда правила приведут код в менее читаемый вид, и когда это противоречит общей стилистике уже написанного кода"
   ]
  },
  {
   "cell_type": "markdown",
   "metadata": {
    "slideshow": {
     "slide_type": "slide"
    }
   },
   "source": [
    "## Красивый код в первую очередь практичен!"
   ]
  },
  {
   "cell_type": "markdown",
   "metadata": {},
   "source": [
    "Пример класса взятого из интернета, написанного по всем канонам PEP8"
   ]
  },
  {
   "cell_type": "code",
   "execution_count": null,
   "metadata": {},
   "outputs": [],
   "source": [
    "class Rectangle(Blob):\n",
    "\n",
    "    def __init__(self, width, height,\n",
    "                 color='black', emphasis=None, highlight=0):\n",
    "        if (width == 0 and height == 0 and\n",
    "                color == 'red' and emphasis == 'strong' or\n",
    "                highlight > 100):\n",
    "            raise ValueError(\"sorry, you lose\")\n",
    "        if width == 0 and height == 0 and (color == 'red' or\n",
    "                                           emphasis is None):\n",
    "            raise ValueError(\"I don't think so -- values are %s, %s\" %\n",
    "                             (width, height))\n",
    "        Blob.__init__(self, width, height,\n",
    "                      color, emphasis, highlight)"
   ]
  },
  {
   "cell_type": "markdown",
   "metadata": {},
   "source": [
    "## PEP8 импорт"
   ]
  },
  {
   "cell_type": "markdown",
   "metadata": {},
   "source": [
    "Не следует импортировать библиотеки на одной строчке кода - это запутывает!"
   ]
  },
  {
   "cell_type": "code",
   "execution_count": null,
   "metadata": {},
   "outputs": [],
   "source": [
    "import sys, numpy \n",
    "#НЕПРАВИЛЬНО"
   ]
  },
  {
   "cell_type": "markdown",
   "metadata": {},
   "source": [
    "Правильно будет выносить каждый отдельный импорт на отдельную строк"
   ]
  },
  {
   "cell_type": "code",
   "execution_count": null,
   "metadata": {},
   "outputs": [],
   "source": [
    "from numpy import array\n",
    "from numpy import pi\n",
    "from random import randint\n",
    "from random import choice\n",
    "import sys"
   ]
  },
  {
   "cell_type": "markdown",
   "metadata": {
    "slideshow": {
     "slide_type": "slide"
    }
   },
   "source": [
    "## PEP8 Пробелы"
   ]
  },
  {
   "cell_type": "markdown",
   "metadata": {},
   "source": [
    "Избегать пробелы внутри круглых, квадратных или фигурных скобок. Также не ставить их перед запятой, и не делать больше одного пробела"
   ]
  },
  {
   "cell_type": "code",
   "execution_count": null,
   "metadata": {},
   "outputs": [],
   "source": [
    "a = 3\n",
    "if a == 4:\n",
    "    pass\n",
    "s1 = s2[:-1]\n",
    "i += 1\n",
    "f(2)\n",
    "result = (a+b) * (c+d)\n",
    "function(x=4, y=2)"
   ]
  },
  {
   "cell_type": "markdown",
   "metadata": {
    "slideshow": {
     "slide_type": "slide"
    }
   },
   "source": [
    "## PEP8 Комментарии "
   ]
  },
  {
   "cell_type": "markdown",
   "metadata": {},
   "source": [
    "Хорошие комментарии объясняют весь код. Они помогают понять какие значения аргументов ждет функция и прочее и прочее. Следует избегать \"идиотских\" комментариев. Всегда стоит помнить, что комментарии могут захламлять код, также как и код"
   ]
  },
  {
   "cell_type": "code",
   "execution_count": null,
   "metadata": {},
   "outputs": [],
   "source": [
    "x = 1 # тут мы x присваиваем значение равное 1\n",
    "x += 1 # Тут мы увеличиваем значение x, которое было равно 1 на 1, что делает x равной 2"
   ]
  },
  {
   "cell_type": "markdown",
   "metadata": {},
   "source": [
    "Хуже этого могут быть только комменатрии, противоречащие коду"
   ]
  },
  {
   "cell_type": "code",
   "execution_count": null,
   "metadata": {},
   "outputs": [],
   "source": [
    "a = 2 # Создаем пустой список b"
   ]
  },
  {
   "cell_type": "markdown",
   "metadata": {
    "slideshow": {
     "slide_type": "slide"
    }
   },
   "source": [
    "Пример правльно построенных комментариев"
   ]
  },
  {
   "cell_type": "code",
   "execution_count": null,
   "metadata": {},
   "outputs": [],
   "source": [
    "def summa(a, b):\n",
    "\"\"\"Функция для суммирования двух чисел\n",
    "\n",
    "Функция принимает в качестве аргументов два ЧИСЛА\n",
    "a: любое число\n",
    "b: любое число\n",
    "\n",
    "Функция возвращает результат сложения ЧИСЛОМ\n",
    "\n",
    "\"\"\"\n",
    "    return a + b"
   ]
  },
  {
   "cell_type": "markdown",
   "metadata": {},
   "source": [
    "## PEP8 Нейминг"
   ]
  },
  {
   "cell_type": "markdown",
   "metadata": {},
   "source": [
    "Объекты делятся на два типа - те, которые доступны пользователям и внутренние. Если объект является общедоступным, то в первую очередь название должно отобрать использование, а не реализацию"
   ]
  },
  {
   "cell_type": "markdown",
   "metadata": {},
   "source": [
    "Говоря проще, не стоит называть функцию \"Вася\" если она считает энергию столкновения частиц в адронного колайдере при определенном режиме работы всей системе и при исключительных ситуациях"
   ]
  },
  {
   "cell_type": "markdown",
   "metadata": {},
   "source": [
    "Но стоит понимать, что определение \"правильного имени\" не существует и все сугубо субъективно"
   ]
  },
  {
   "cell_type": "markdown",
   "metadata": {},
   "source": [
    "## Нейминг некоторых объектов"
   ]
  },
  {
   "cell_type": "code",
   "execution_count": null,
   "metadata": {},
   "outputs": [],
   "source": [
    "Классы называем \"верблюдами\""
   ]
  },
  {
   "cell_type": "code",
   "execution_count": null,
   "metadata": {},
   "outputs": [],
   "source": [
    "class MyVeryFirstClassInPython:"
   ]
  },
  {
   "cell_type": "markdown",
   "metadata": {},
   "source": [
    "Функции называем маленькими буквами с подчеркиваниями"
   ]
  },
  {
   "cell_type": "code",
   "execution_count": null,
   "metadata": {},
   "outputs": [],
   "source": [
    "def yu_function()"
   ]
  },
  {
   "cell_type": "markdown",
   "metadata": {},
   "source": [
    "Модули называем коротко и маленькими буквами"
   ]
  },
  {
   "cell_type": "code",
   "execution_count": null,
   "metadata": {},
   "outputs": [],
   "source": [
    "import numpy"
   ]
  },
  {
   "cell_type": "markdown",
   "metadata": {},
   "source": [
    "\"Константы\" называем большими буквами с подчеркиваниями"
   ]
  },
  {
   "cell_type": "code",
   "execution_count": null,
   "metadata": {},
   "outputs": [],
   "source": [
    "MAX_ITERATUON_NUMBER = 1000"
   ]
  },
  {
   "cell_type": "markdown",
   "metadata": {
    "slideshow": {
     "slide_type": "slide"
    }
   },
   "source": [
    "## Подытоживая"
   ]
  },
  {
   "cell_type": "markdown",
   "metadata": {},
   "source": [
    "Здесь была описана крупица документа PEP8. На деле требований к структуре кода намного больше и следует ознакомиться с PEP8 самостоятельно"
   ]
  },
  {
   "cell_type": "markdown",
   "metadata": {},
   "source": [
    "В целом никогда не забывайте, что ваш код будут читать большое количество людей и не разводите там хаоса"
   ]
  }
 ],
 "metadata": {
  "celltoolbar": "Slideshow",
  "kernelspec": {
   "display_name": "Python 3",
   "language": "python",
   "name": "python3"
  },
  "language_info": {
   "codemirror_mode": {
    "name": "ipython",
    "version": 3
   },
   "file_extension": ".py",
   "mimetype": "text/x-python",
   "name": "python",
   "nbconvert_exporter": "python",
   "pygments_lexer": "ipython3",
   "version": "3.6.5"
  }
 },
 "nbformat": 4,
 "nbformat_minor": 2
}
