{
 "cells": [
  {
   "cell_type": "markdown",
   "metadata": {
    "slideshow": {
     "slide_type": "slide"
    }
   },
   "source": [
    "# Введение в Python\n",
    "\n",
    "## Функции"
   ]
  },
  {
   "cell_type": "markdown",
   "metadata": {
    "slideshow": {
     "slide_type": "slide"
    }
   },
   "source": [
    "## Формальное определение \n",
    "\n",
    "```Функции``` - это блок кода для однократного или многократного использования внутри программы. Функции используются для придания коду более компактного и модульного вида. \n",
    "\n",
    "Использование повторяющегося кода с помощью функций - хороший тон программиста.\n",
    "\n",
    "По большому счету функции - отдельные маленькие программы, живущие своей жизнью"
   ]
  },
  {
   "cell_type": "markdown",
   "metadata": {
    "slideshow": {
     "slide_type": "slide"
    }
   },
   "source": [
    "## Синтаксис функций \n",
    "\n",
    "Создание пустой функции выглядит так"
   ]
  },
  {
   "cell_type": "code",
   "execution_count": 42,
   "metadata": {
    "slideshow": {
     "slide_type": "-"
    }
   },
   "outputs": [],
   "source": [
    "def first_funct():\n",
    "    pass"
   ]
  },
  {
   "cell_type": "markdown",
   "metadata": {},
   "source": [
    "Вызов такой функции будет, соответственно, выгледить так"
   ]
  },
  {
   "cell_type": "code",
   "execution_count": null,
   "metadata": {},
   "outputs": [],
   "source": [
    "first_func()"
   ]
  },
  {
   "cell_type": "markdown",
   "metadata": {
    "slideshow": {
     "slide_type": "slide"
    }
   },
   "source": [
    "## Аргументы функций"
   ]
  },
  {
   "cell_type": "markdown",
   "metadata": {},
   "source": [
    "Функции могут иметь аргументы или не иметь аргументов"
   ]
  },
  {
   "cell_type": "code",
   "execution_count": 44,
   "metadata": {},
   "outputs": [],
   "source": [
    "def blank():\n",
    "    pass\n",
    "\n",
    "def bigger(a, b):\n",
    "    if a>b:\n",
    "        print(a)\n",
    "    else:\n",
    "        print(b)"
   ]
  },
  {
   "cell_type": "markdown",
   "metadata": {
    "slideshow": {
     "slide_type": "slide"
    }
   },
   "source": [
    "## Ключевые аргументы"
   ]
  },
  {
   "cell_type": "markdown",
   "metadata": {},
   "source": [
    "Ключевые аргументы - аргументы с именами. Обращаясь к именам аргументов, можно задавать произвольный порядок использования аргументов"
   ]
  },
  {
   "cell_type": "code",
   "execution_count": 45,
   "metadata": {},
   "outputs": [
    {
     "name": "stdout",
     "output_type": "stream",
     "text": [
      "10\n"
     ]
    }
   ],
   "source": [
    "def bigger(a, b):\n",
    "    if a>b:\n",
    "        print(a)\n",
    "    else:\n",
    "        print(b)\n",
    "        \n",
    "bigger(b=10, a=1)"
   ]
  },
  {
   "cell_type": "markdown",
   "metadata": {
    "slideshow": {
     "slide_type": "slide"
    }
   },
   "source": [
    "## Заранее задананые аргументы"
   ]
  },
  {
   "cell_type": "markdown",
   "metadata": {},
   "source": [
    "Аргументы могут иметь дефолтное значение. В этом случае пользователю не обязательно их указывать при обращении к функции "
   ]
  },
  {
   "cell_type": "code",
   "execution_count": 46,
   "metadata": {},
   "outputs": [
    {
     "name": "stdout",
     "output_type": "stream",
     "text": [
      "8\n"
     ]
    }
   ],
   "source": [
    "def bigger(a, b=8):\n",
    "    if a>b:\n",
    "        print(a)\n",
    "    else:\n",
    "        print(b)\n",
    "        \n",
    "bigger(4)"
   ]
  },
  {
   "cell_type": "markdown",
   "metadata": {
    "slideshow": {
     "slide_type": "slide"
    }
   },
   "source": [
    "## Неопределенное количество аргументов"
   ]
  },
  {
   "cell_type": "markdown",
   "metadata": {},
   "source": [
    "Количество аргументов функции может быть неизвестным. от 0 до $\\infty$ . В этом случае используют символ \"звездочка\". Часто такие аргументы называют *arg"
   ]
  },
  {
   "cell_type": "code",
   "execution_count": 47,
   "metadata": {},
   "outputs": [
    {
     "name": "stdout",
     "output_type": "stream",
     "text": [
      "1\n",
      "2\n",
      "3\n",
      "4\n",
      "5\n"
     ]
    }
   ],
   "source": [
    "def print_list(*args):\n",
    "    for i in args:\n",
    "        print(i)\n",
    "        \n",
    "print_list(1,2,3,4,5)"
   ]
  },
  {
   "cell_type": "markdown",
   "metadata": {
    "slideshow": {
     "slide_type": "slide"
    }
   },
   "source": [
    "## Неопределенное количество ключевых аргументов"
   ]
  },
  {
   "cell_type": "markdown",
   "metadata": {},
   "source": [
    "Аналогично используются две звездочки. Часто такие ключевые аргументы именуют **kwargs"
   ]
  },
  {
   "cell_type": "code",
   "execution_count": 48,
   "metadata": {},
   "outputs": [
    {
     "name": "stdout",
     "output_type": "stream",
     "text": [
      "(1, 2)\n",
      "-----\n",
      "{'name': 'Mike', 'age': 24}\n"
     ]
    }
   ],
   "source": [
    "def print_things(*args, **kwargs):\n",
    "    print(args)\n",
    "    print('-----')\n",
    "    print(kwargs)\n",
    "    \n",
    "print_things(1,2, name = 'Mike', age = 24)"
   ]
  },
  {
   "cell_type": "markdown",
   "metadata": {
    "slideshow": {
     "slide_type": "slide"
    }
   },
   "source": [
    "## Локальные аргументы"
   ]
  },
  {
   "cell_type": "markdown",
   "metadata": {},
   "source": [
    "Все переменные внутри функции - локальные. Другими словами про них \"знает\" только сама вызываемая функция"
   ]
  },
  {
   "cell_type": "code",
   "execution_count": 49,
   "metadata": {},
   "outputs": [
    {
     "name": "stdout",
     "output_type": "stream",
     "text": [
      "7\n"
     ]
    }
   ],
   "source": [
    "def sum(a, b):\n",
    "    return a+b\n",
    "\n",
    "a=4\n",
    "c=3\n",
    "print(sum(a, c))"
   ]
  },
  {
   "cell_type": "markdown",
   "metadata": {
    "slideshow": {
     "slide_type": "slide"
    }
   },
   "source": [
    "Если переменная не определена внутри функции локально, тогда функция будет искать переменную глобально"
   ]
  },
  {
   "cell_type": "code",
   "execution_count": 50,
   "metadata": {},
   "outputs": [
    {
     "name": "stdout",
     "output_type": "stream",
     "text": [
      "104\n"
     ]
    }
   ],
   "source": [
    "N = 100\n",
    "def sum(a):\n",
    "    return N+a\n",
    "\n",
    "print(sum(4))"
   ]
  },
  {
   "cell_type": "markdown",
   "metadata": {
    "slideshow": {
     "slide_type": "slide"
    }
   },
   "source": [
    "## Оператор global"
   ]
  },
  {
   "cell_type": "markdown",
   "metadata": {},
   "source": [
    "Оператор Global позволяет расширять локальную область видимости переменных в функции в глобальную видимость"
   ]
  },
  {
   "cell_type": "code",
   "execution_count": 51,
   "metadata": {},
   "outputs": [
    {
     "name": "stdout",
     "output_type": "stream",
     "text": [
      "Bobby\n"
     ]
    }
   ],
   "source": [
    "def whatever():\n",
    "    global name\n",
    "    name = 'Bobby'\n",
    "    return 0\n",
    "\n",
    "result = whatever()\n",
    "print(name)"
   ]
  },
  {
   "cell_type": "markdown",
   "metadata": {},
   "source": [
    "Глобальныx переменныx стоит ИЗБЕГАТЬ всеми силами. Хороший тон - не прибегать к глобальным переменным НИКОГДА"
   ]
  },
  {
   "cell_type": "markdown",
   "metadata": {
    "slideshow": {
     "slide_type": "slide"
    }
   },
   "source": [
    "## Оператор return"
   ]
  },
  {
   "cell_type": "markdown",
   "metadata": {},
   "source": [
    "Оператор return ЗАВЕРШАЕТ выполнение функции и возвращает управление в тот сегмент кода, откуда она была вызвана, и передает результат выполнения функции "
   ]
  },
  {
   "cell_type": "code",
   "execution_count": 52,
   "metadata": {},
   "outputs": [
    {
     "name": "stdout",
     "output_type": "stream",
     "text": [
      "This is first line of code\n",
      "This is function line of code\n",
      "3\n",
      "This is last line of code\n"
     ]
    }
   ],
   "source": [
    "def sum(a, b):\n",
    "    print('This is function line of code')\n",
    "    return a+b\n",
    "\n",
    "print('This is first line of code')\n",
    "s = sum(1, 2)\n",
    "print(s)\n",
    "print('This is last line of code')"
   ]
  },
  {
   "cell_type": "markdown",
   "metadata": {},
   "source": [
    "Функции могут как иметь завершающий оператор, а могут и не иметь"
   ]
  },
  {
   "cell_type": "markdown",
   "metadata": {
    "slideshow": {
     "slide_type": "slide"
    }
   },
   "source": [
    "## Вывод нескольких результатов"
   ]
  },
  {
   "cell_type": "markdown",
   "metadata": {},
   "source": [
    "Return может возвращать более одного ответа"
   ]
  },
  {
   "cell_type": "code",
   "execution_count": 53,
   "metadata": {},
   "outputs": [
    {
     "name": "stdout",
     "output_type": "stream",
     "text": [
      "1   2\n"
     ]
    }
   ],
   "source": [
    "def return_a_b():\n",
    "    a = 1\n",
    "    b = 2\n",
    "    return a,b\n",
    "\n",
    "n, m = return_a_b()\n",
    "print(n, ' ', m)"
   ]
  },
  {
   "cell_type": "markdown",
   "metadata": {
    "slideshow": {
     "slide_type": "slide"
    }
   },
   "source": [
    "## Анонимные функции"
   ]
  },
  {
   "cell_type": "markdown",
   "metadata": {},
   "source": [
    "Анонимные функции - однострочные функции для тех случаев, когда функция не будет использована вновь и имя для нее не хочется выбирать"
   ]
  },
  {
   "cell_type": "markdown",
   "metadata": {},
   "source": [
    "Схема использования анонимной функции"
   ]
  },
  {
   "cell_type": "code",
   "execution_count": 54,
   "metadata": {},
   "outputs": [
    {
     "data": {
      "text/plain": [
       "<function __main__.<lambda>(x, y)>"
      ]
     },
     "execution_count": 54,
     "metadata": {},
     "output_type": "execute_result"
    }
   ],
   "source": [
    "lambda x, y: manipulate(args)"
   ]
  },
  {
   "cell_type": "markdown",
   "metadata": {},
   "source": [
    "Анонимные функции находят свои применения в самых разных областях, таких как сортировка списков и т.д."
   ]
  },
  {
   "cell_type": "markdown",
   "metadata": {
    "slideshow": {
     "slide_type": "slide"
    }
   },
   "source": [
    "## Примеры использования lambda функций"
   ]
  },
  {
   "cell_type": "code",
   "execution_count": 55,
   "metadata": {},
   "outputs": [
    {
     "name": "stdout",
     "output_type": "stream",
     "text": [
      "8\n"
     ]
    }
   ],
   "source": [
    "add = lambda x,y: x + y\n",
    "\n",
    "print(add(3, 5))"
   ]
  },
  {
   "cell_type": "markdown",
   "metadata": {},
   "source": [
    "Пример сортировки"
   ]
  },
  {
   "cell_type": "code",
   "execution_count": 56,
   "metadata": {},
   "outputs": [
    {
     "name": "stdout",
     "output_type": "stream",
     "text": [
      "[(13, 7), (9, 10), (1, 20)]\n"
     ]
    }
   ],
   "source": [
    "a = [(1, 20),(13, 7),(9, 10)]\n",
    "a.sort(key=lambda x:x[1])\n",
    "print(a)"
   ]
  },
  {
   "cell_type": "markdown",
   "metadata": {
    "slideshow": {
     "slide_type": "slide"
    }
   },
   "source": [
    "## Генераторы "
   ]
  },
  {
   "cell_type": "markdown",
   "metadata": {},
   "source": [
    "Генераторы - итераторы, по которым можно итерировать лишь один раз. Генераторы почти всегда реализуют как функцию"
   ]
  },
  {
   "cell_type": "code",
   "execution_count": 57,
   "metadata": {},
   "outputs": [
    {
     "name": "stdout",
     "output_type": "stream",
     "text": [
      "0\n",
      "1\n",
      "2\n"
     ]
    }
   ],
   "source": [
    "def mygenerator():\n",
    "    for i in range(3):\n",
    "        yield i\n",
    "        \n",
    "for i in mygenerator():\n",
    "    print(i)"
   ]
  },
  {
   "cell_type": "markdown",
   "metadata": {
    "slideshow": {
     "slide_type": "slide"
    }
   },
   "source": [
    "## Декораторы"
   ]
  },
  {
   "cell_type": "markdown",
   "metadata": {},
   "source": [
    "Функциями в Python можно оперировать как объектами. Рассмотрим пример"
   ]
  },
  {
   "cell_type": "code",
   "execution_count": 58,
   "metadata": {},
   "outputs": [
    {
     "name": "stdout",
     "output_type": "stream",
     "text": [
      "Here we start\n",
      "Heloooo\n",
      "Here we end\n"
     ]
    }
   ],
   "source": [
    "def decoration(func):\n",
    "    def before_and_after():\n",
    "        print(\"Here we start\")\n",
    "        func()\n",
    "        print(\"Here we end\")\n",
    "    return before_and_after\n",
    "\n",
    "def f():\n",
    "    print('Heloooo')\n",
    "\n",
    "new_f = decoration(f)\n",
    "new_f()"
   ]
  },
  {
   "cell_type": "markdown",
   "metadata": {
    "slideshow": {
     "slide_type": "slide"
    }
   },
   "source": [
    "Фнкция before_and_after позволила нам исполнять код до исполнения f() и после нее, не меняя самой функции. Декораторы по своей сути \"обертки\" (wrappings)"
   ]
  },
  {
   "cell_type": "markdown",
   "metadata": {},
   "source": [
    "Рассмотрим, как можно было написать тот же код проще"
   ]
  },
  {
   "cell_type": "code",
   "execution_count": 59,
   "metadata": {},
   "outputs": [
    {
     "name": "stdout",
     "output_type": "stream",
     "text": [
      "Here we start\n",
      "Heloooo\n",
      "Here we end\n"
     ]
    }
   ],
   "source": [
    "def decoration(func):\n",
    "    def before_and_after():\n",
    "        print(\"Here we start\")\n",
    "        func()\n",
    "        print(\"Here we end\")\n",
    "    return before_and_after\n",
    "\n",
    "@decoration\n",
    "def f():\n",
    "    print('Heloooo')\n",
    "    \n",
    "f()"
   ]
  },
  {
   "cell_type": "code",
   "execution_count": 60,
   "metadata": {
    "slideshow": {
     "slide_type": "slide"
    }
   },
   "outputs": [
    {
     "name": "stdout",
     "output_type": "stream",
     "text": [
      "--Базилик--\n",
      "----Сыр----\n",
      "---Кетчуп---\n"
     ]
    }
   ],
   "source": [
    "def basil(f):\n",
    "    def wrap():\n",
    "        print('--Базилик--')\n",
    "        f()\n",
    "    return wrap\n",
    "    \n",
    "def cheese(f):\n",
    "    def wrap():\n",
    "        print(\"----Сыр----\")\n",
    "        f()\n",
    "    return wrap\n",
    "\n",
    "@basil\n",
    "@cheese\n",
    "def tomato():\n",
    "    print(\"---Кетчуп---\")\n",
    "    \n",
    "tomato()"
   ]
  }
 ],
 "metadata": {
  "celltoolbar": "Slideshow",
  "kernelspec": {
   "display_name": "Python 3",
   "language": "python",
   "name": "python3"
  },
  "language_info": {
   "codemirror_mode": {
    "name": "ipython",
    "version": 3
   },
   "file_extension": ".py",
   "mimetype": "text/x-python",
   "name": "python",
   "nbconvert_exporter": "python",
   "pygments_lexer": "ipython3",
   "version": "3.6.5"
  }
 },
 "nbformat": 4,
 "nbformat_minor": 2
}
