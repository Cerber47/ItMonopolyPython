{
 "cells": [
  {
   "cell_type": "code",
   "execution_count": 1,
   "metadata": {
    "slideshow": {
     "slide_type": "slide"
    }
   },
   "outputs": [],
   "source": [
    "# Введение в Python\n",
    "\n",
    "## Полезные библиотеки, регулярные выражения"
   ]
  },
  {
   "cell_type": "markdown",
   "metadata": {
    "slideshow": {
     "slide_type": "slide"
    }
   },
   "source": [
    "## Библиотека sys"
   ]
  },
  {
   "cell_type": "markdown",
   "metadata": {},
   "source": [
    "Системная библиотека ```sys``` - предназначена для системных функций и объектов."
   ]
  },
  {
   "cell_type": "markdown",
   "metadata": {},
   "source": [
    "- sys.argv - список аргументов командной строки\n",
    "- sys.exit - завершение выполнения программы\n",
    "- sys.path - список путей ко всем модулям. Можно добавлять путь к своим\n",
    "- sys.platform - на какой платформе, на какой операционной системе"
   ]
  },
  {
   "cell_type": "code",
   "execution_count": null,
   "metadata": {
    "slideshow": {
     "slide_type": "slide"
    }
   },
   "outputs": [],
   "source": [
    "import sys\n",
    "\n",
    "def main(*argv):\n",
    "    pass\n",
    "\n",
    "if __name__ == '__main__':\n",
    "    os = sys.platform\n",
    "    if os == 'win32':\n",
    "        main(sys.argv)\n",
    "    elif os.startswith == 'linux':\n",
    "        print(\"Программа не работает с линуксом\")\n",
    "        sys.exit()"
   ]
  },
  {
   "cell_type": "markdown",
   "metadata": {
    "slideshow": {
     "slide_type": "slide"
    }
   },
   "source": [
    "## Библиотека os"
   ]
  },
  {
   "cell_type": "markdown",
   "metadata": {},
   "source": [
    "```OS``` - еще одна полезная библиотека для работы с системой"
   ]
  },
  {
   "cell_type": "markdown",
   "metadata": {},
   "source": [
    "os.getcwd() - Позволит нам отобразить, в какой директории мы находимся"
   ]
  },
  {
   "cell_type": "code",
   "execution_count": 2,
   "metadata": {},
   "outputs": [
    {
     "name": "stdout",
     "output_type": "stream",
     "text": [
      "/home/cerber47/Code/LearnPython/ItMonopolyPython/Materials\n"
     ]
    }
   ],
   "source": [
    "import os\n",
    "\n",
    "print(os.getcwd())"
   ]
  },
  {
   "cell_type": "markdown",
   "metadata": {},
   "source": [
    "os.chdir() - Позволит нам переместиться в другую директорию для работы"
   ]
  },
  {
   "cell_type": "code",
   "execution_count": null,
   "metadata": {},
   "outputs": [],
   "source": [
    "import os\n",
    "\n",
    "os.chandir(r\"/home\")"
   ]
  },
  {
   "cell_type": "markdown",
   "metadata": {
    "slideshow": {
     "slide_type": "slide"
    }
   },
   "source": [
    "Также ```os``` позволяет создавать директории"
   ]
  },
  {
   "cell_type": "code",
   "execution_count": 5,
   "metadata": {},
   "outputs": [],
   "source": [
    "os.mkdir(\"test\") "
   ]
  },
  {
   "cell_type": "markdown",
   "metadata": {},
   "source": [
    "Удалять файлы или директории"
   ]
  },
  {
   "cell_type": "code",
   "execution_count": null,
   "metadata": {},
   "outputs": [],
   "source": [
    "os.remove(\"test.txt\") \n",
    "os.rmdir(\"test\")"
   ]
  },
  {
   "cell_type": "code",
   "execution_count": null,
   "metadata": {},
   "outputs": [],
   "source": [
    "Переименовывать файл или директорию"
   ]
  },
  {
   "cell_type": "code",
   "execution_count": null,
   "metadata": {},
   "outputs": [],
   "source": [
    "os.rename(\"test\",\"Tested\")"
   ]
  },
  {
   "cell_type": "code",
   "execution_count": null,
   "metadata": {},
   "outputs": [],
   "source": [
    "Запускать файлы"
   ]
  },
  {
   "cell_type": "code",
   "execution_count": null,
   "metadata": {},
   "outputs": [],
   "source": [
    "os.startfile(\"test.txt\")"
   ]
  },
  {
   "cell_type": "markdown",
   "metadata": {},
   "source": [
    "Также os.walk() позволяет нам получить доступ ко всем каталогам и файлам, доступным по указанному пути"
   ]
  },
  {
   "cell_type": "code",
   "execution_count": 11,
   "metadata": {},
   "outputs": [
    {
     "name": "stdout",
     "output_type": "stream",
     "text": [
      "/home/cerber47/Code/LearnPython/ItMonopolyPython/Materials\n",
      "/home/cerber47/Code/LearnPython/ItMonopolyPython/Materials/test\n",
      "/home/cerber47/Code/LearnPython/ItMonopolyPython/Materials/.ipynb_checkpoints\n"
     ]
    }
   ],
   "source": [
    "import os\n",
    "\n",
    "path = r'/home/cerber47/Code/LearnPython/ItMonopolyPython/Materials'\n",
    " \n",
    "for i, j, k in os.walk(path):\n",
    "    print(i)"
   ]
  },
  {
   "cell_type": "markdown",
   "metadata": {
    "slideshow": {
     "slide_type": "slide"
    }
   },
   "source": [
    "## Библиотека random"
   ]
  },
  {
   "cell_type": "markdown",
   "metadata": {},
   "source": [
    "```random``` - библиотека для работы со случайными величинами"
   ]
  },
  {
   "cell_type": "markdown",
   "metadata": {},
   "source": [
    "- random.randint(1,10) - выбор рандомного числа\n",
    "- random.choise([1, 2]) - выбор рандомного элемента из списка\n",
    "- random.shuffle([1, 2, 3, 4, 5]) - перемешать порядок элементов в списке\n",
    "- random.random() - случайное число от 0 до 1"
   ]
  },
  {
   "cell_type": "markdown",
   "metadata": {
    "slideshow": {
     "slide_type": "slide"
    }
   },
   "source": [
    "## Библиотека time"
   ]
  },
  {
   "cell_type": "markdown",
   "metadata": {},
   "source": [
    "```time``` - позволяет программисту работать со временем"
   ]
  },
  {
   "cell_type": "markdown",
   "metadata": {},
   "source": [
    "time.ctime() - количество секунд с 1970 года"
   ]
  },
  {
   "cell_type": "markdown",
   "metadata": {},
   "source": [
    "time.sleep() - остановка выполнения кода на указанное количество секунд"
   ]
  },
  {
   "cell_type": "markdown",
   "metadata": {
    "slideshow": {
     "slide_type": "slide"
    }
   },
   "source": [
    "# Регулярные выражения "
   ]
  },
  {
   "cell_type": "code",
   "execution_count": null,
   "metadata": {},
   "outputs": [],
   "source": []
  }
 ],
 "metadata": {
  "celltoolbar": "Slideshow",
  "kernelspec": {
   "display_name": "Python 3",
   "language": "python",
   "name": "python3"
  },
  "language_info": {
   "codemirror_mode": {
    "name": "ipython",
    "version": 3
   },
   "file_extension": ".py",
   "mimetype": "text/x-python",
   "name": "python",
   "nbconvert_exporter": "python",
   "pygments_lexer": "ipython3",
   "version": "3.6.6"
  }
 },
 "nbformat": 4,
 "nbformat_minor": 2
}
